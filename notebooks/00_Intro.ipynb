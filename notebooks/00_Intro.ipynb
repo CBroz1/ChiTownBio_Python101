{
 "cells": [
  {
   "cell_type": "markdown",
   "id": "32bbec94",
   "metadata": {},
   "source": [
    "# VS Code"
   ]
  },
  {
   "cell_type": "markdown",
   "id": "69e854a0",
   "metadata": {},
   "source": [
    "By default, GitHub opens codespaces in VS Code, the most popular IDE \n",
    "(Integrated Development Environment). \n",
    "\n",
    "- **Configuration**: Almost all settings can be adjusted in the Command Palette \n",
    "  by hitting `Ctrl+Shift+P`. \n",
    "    - Try it out with by searching for `Color Theme` and trying out the options.\n",
    "    - `.vscode` folder contains the settings/extensions set for this course by\n",
    "      default (including code auto-formatting on save).\n",
    "- **File navigation**: The bar on the left shows files in the current directory. \n",
    "    - Selecting a different file will open it in a new tab.\n",
    "    -  The 'Outline' section shows an overview of sections of the current file.\n",
    "- **Additional Views**: \n",
    "  - Jupyter: Command Palette `Jupyter: Focus Jupyter Variables View` to see any \n",
    "    variables we've defined. Try opening this now.\n",
    "  - Terminal: ``    Ctrl+Shift+` `` or Command Palette `Focus Terminal` for \n",
    "    running commnand line. Save this for later.\n"
   ]
  },
  {
   "cell_type": "markdown",
   "id": "6099c8d0",
   "metadata": {},
   "source": [
    "# Jupyter \n"
   ]
  },
  {
   "cell_type": "markdown",
   "id": "ff4b7eda",
   "metadata": {},
   "source": [
    "\n",
    "This course will run notebooks within VS Code as opposed to the \n",
    "[Jupyter Notebook interface](https://digitalhumanities.hkust.edu.hk/tutorials/jupyter-notebook-tips-and-shortcuts/).\n",
    "A Jupyter notebook ([full guide](https://code.visualstudio.com/docs/datascience/jupyter-notebooks)) \n",
    "consits of 'cells' that can either contain...\n",
    "\n",
    "- Markdown text for descriptions\n",
    "  - Includes basic formatting with common special characters\n",
    "  - [What is markdown?](https://www.markdownguide.org/getting-started/)\n",
    "  - [Cheat sheet](https://www.markdownguide.org/cheat-sheet/)\n",
    "- Python code \n",
    "  - Executes operations\n",
    "  - [Why Python](https://github.blog/developer-skills/programming-languages-and-frameworks/why-python-keeps-growing-explained/)\n",
    "  - Cheat sheet: [Basic](https://quickref.me/python.html), \n",
    "    [Advanced](https://www.pythoncheatsheet.org/)\n",
    "\n",
    "Cells can be...\n",
    "\n",
    "- Edited (`Enter` to enter edit mode, `Esc` to exit)\n",
    "- Run (`Ctrl+Enter` or play button) to show markdown result or run code\n",
    "- Added (`a` for above, `b` for below) to insert an empty cell\n",
    "- Cut/paste (`x`/`v`) to rearrange\n",
    "- Changed in type (`m` for markdown, `y` for python)\n",
    "- Split (`Ctrl+Shift+-`) to generate a new cell below the cursor\n",
    "- Undo (`u`) can revert some operations \n",
    "- Hidden (`right`) and Shown (`left`) to collapse/fold sections based on \n",
    "  markdown heading."
   ]
  },
  {
   "cell_type": "markdown",
   "id": "5dd39edb",
   "metadata": {},
   "source": [
    "# Cell Demo"
   ]
  },
  {
   "cell_type": "markdown",
   "id": "dbd6e993",
   "metadata": {},
   "source": [
    "## Adding a cell"
   ]
  },
  {
   "cell_type": "markdown",
   "id": "2d22401e",
   "metadata": {},
   "source": [
    "1. Let's try adding a cell below this one by clicking on it and hitting `b`. \n",
    "  By default, new cells will be in Python.\n",
    "1. Once created, try changing it to a markdown cell (`m`) and adding some bold \n",
    "  text with `**your text**`\n",
    "\n",
    "**NOTE**: If new cells are not labeled 'Python' in the bottom-right, open the \n",
    "command pallete and run 'Select Interpreter'. Choose the option labeled \n",
    "'Recommended'. "
   ]
  },
  {
   "cell_type": "markdown",
   "id": "57b73314",
   "metadata": {},
   "source": [
    "## Splitting a cell"
   ]
  },
  {
   "cell_type": "markdown",
   "id": "d83b1276",
   "metadata": {},
   "source": [
    "`Enter` to edit this cell and move your curor\n",
    "to the period. Use `Crtl+Shift+-` to split it in two."
   ]
  },
  {
   "cell_type": "markdown",
   "id": "4a20e432",
   "metadata": {},
   "source": [
    "## Running a cell"
   ]
  },
  {
   "cell_type": "markdown",
   "id": "9572e239",
   "metadata": {},
   "source": [
    "Hover over the cell below and run it to print output."
   ]
  },
  {
   "cell_type": "code",
   "execution_count": null,
   "id": "63906c5c",
   "metadata": {},
   "outputs": [],
   "source": [
    "print(\"Hello, world!\")"
   ]
  },
  {
   "cell_type": "markdown",
   "id": "e165e09f",
   "metadata": {},
   "source": [
    "## See local variables"
   ]
  },
  {
   "cell_type": "markdown",
   "id": "a392b89d",
   "metadata": {},
   "source": [
    "Open the Jupyter view with the command pallete. See what changes when you \n",
    "run the cell below."
   ]
  },
  {
   "cell_type": "code",
   "execution_count": null,
   "id": "5ad0c54a",
   "metadata": {},
   "outputs": [],
   "source": [
    "a = 1"
   ]
  },
  {
   "cell_type": "markdown",
   "id": "dfff99cf",
   "metadata": {},
   "source": [
    "# Data Types"
   ]
  },
  {
   "cell_type": "markdown",
   "id": "f8206e8b",
   "metadata": {},
   "source": [
    "Python has a handful of \n",
    "[basic data types](https://www.pythoncheatsheet.org/cheatsheet/basics#data-types)\n",
    "that we can manipulate with operators and combine into more \n",
    "[complex types](https://www.pythoncheatsheet.org/cheatsheet/lists-and-tuples).\n",
    "\n",
    "## Basic Types\n",
    "\n",
    "- Booleans (`bool`): True or False\n",
    "- Integers (`int`): Whole numbers (-1, 0, 5)\n",
    "- Floating point numbers (`float`): Precise numbers (-0.5, 3.001)\n",
    "- Strings (`str`): Sets of characters ('Hello!', '$30', '1 car', '11')\n",
    "\n",
    "Just because something looks like an integer doesn't mean it is!\n",
    "\n",
    "## Operators\n",
    "\n",
    "Many operators are based on familiar math symbols.\n",
    "\n",
    "- `+`, `-`, `*`, `/`, `**`: Add, subtract, multiply, divide, exponents\n",
    "- `//`, `%`: Integer division, modulo\n"
   ]
  },
  {
   "cell_type": "markdown",
   "id": "319bccf8",
   "metadata": {},
   "source": [
    "## Operator Demo\n",
    "\n",
    "Let's try predicting the outcome of these cells before running each."
   ]
  },
  {
   "cell_type": "code",
   "execution_count": null,
   "id": "7c291d40",
   "metadata": {},
   "outputs": [],
   "source": [
    "1 + 1"
   ]
  },
  {
   "cell_type": "code",
   "execution_count": null,
   "id": "f123c85b",
   "metadata": {},
   "outputs": [],
   "source": [
    "10 - (1 * 0)"
   ]
  },
  {
   "cell_type": "code",
   "execution_count": null,
   "id": "c63a3fe0",
   "metadata": {},
   "outputs": [],
   "source": [
    "(2**3) + (1 / 2)"
   ]
  },
  {
   "cell_type": "code",
   "execution_count": null,
   "id": "1ed9a872",
   "metadata": {},
   "outputs": [],
   "source": [
    "101 / 10"
   ]
  },
  {
   "cell_type": "markdown",
   "id": "ea633d4c",
   "metadata": {},
   "source": [
    "Try writing some examples to explore the difference between `/` and `//`."
   ]
  },
  {
   "cell_type": "code",
   "execution_count": null,
   "id": "5ae65304",
   "metadata": {},
   "outputs": [],
   "source": [
    "101 / 10"
   ]
  },
  {
   "cell_type": "code",
   "execution_count": null,
   "id": "11d850ab",
   "metadata": {},
   "outputs": [],
   "source": [
    "101 // 10"
   ]
  },
  {
   "cell_type": "markdown",
   "id": "cf60bcee",
   "metadata": {},
   "source": [
    "Underscores within numbers are used as a convention to replace commas.\n",
    "For example, `1,234` -> `1_234`, but they have no actual effect"
   ]
  },
  {
   "cell_type": "code",
   "execution_count": null,
   "id": "b779976d",
   "metadata": {},
   "outputs": [],
   "source": [
    "1_000_003 % 1_000"
   ]
  },
  {
   "cell_type": "code",
   "execution_count": null,
   "id": "4abfb408",
   "metadata": {},
   "outputs": [],
   "source": [
    "1_2 // 6"
   ]
  },
  {
   "cell_type": "code",
   "execution_count": null,
   "id": "84d35aa5",
   "metadata": {},
   "outputs": [],
   "source": [
    "\"1.0\" * 2"
   ]
  },
  {
   "cell_type": "code",
   "execution_count": null,
   "id": "6c1d2689",
   "metadata": {},
   "outputs": [],
   "source": [
    "\"10\" / 0.5"
   ]
  },
  {
   "cell_type": "markdown",
   "id": "ef9750a0",
   "metadata": {},
   "source": [
    "## Type wrangling\n",
    "\n",
    "In the last cell, we saw how an unexpected type can cause issues. We might want \n",
    "to multiply a string to get a longer string, but it won't work the same as math\n",
    "operations. Instead, we can wrangle the type..."
   ]
  },
  {
   "cell_type": "code",
   "execution_count": null,
   "id": "eceb2ad2",
   "metadata": {},
   "outputs": [],
   "source": [
    "float(\"1.0\") * int(\"2\")"
   ]
  },
  {
   "cell_type": "code",
   "execution_count": null,
   "id": "1568be9c",
   "metadata": {},
   "outputs": [],
   "source": [
    "str(1.0) + str(2)"
   ]
  },
  {
   "cell_type": "markdown",
   "id": "945a7c1a",
   "metadata": {},
   "source": [
    "# Variable assignment \n",
    "\n",
    "To reuse values, it's helpful to assign then to a variable. Variable names must \n",
    "only use letters, numbers, and underscores. And, by convention, they should \n",
    "use 'snake case', words separated by underscores."
   ]
  },
  {
   "cell_type": "code",
   "execution_count": null,
   "id": "bfa8857e",
   "metadata": {},
   "outputs": [],
   "source": [
    "a = 1"
   ]
  },
  {
   "cell_type": "code",
   "execution_count": null,
   "id": "37e4dfec",
   "metadata": {},
   "outputs": [],
   "source": [
    "bad name = 2"
   ]
  },
  {
   "cell_type": "code",
   "execution_count": null,
   "id": "096f42ea",
   "metadata": {},
   "outputs": [],
   "source": [
    "good_name1 = 2"
   ]
  },
  {
   "cell_type": "code",
   "execution_count": null,
   "id": "2614bbbb",
   "metadata": {},
   "outputs": [],
   "source": [
    "_WorksButNotRecommended = 3"
   ]
  },
  {
   "cell_type": "markdown",
   "id": "49073e5b",
   "metadata": {},
   "source": [
    "Comments help keep notes within code. Everything after `#` is ignored"
   ]
  },
  {
   "cell_type": "code",
   "execution_count": null,
   "id": "32061a62",
   "metadata": {},
   "outputs": [],
   "source": [
    "my_variable = 4\n",
    "print(my_variable * 2)  # This is a comment. `print` is used to show output."
   ]
  },
  {
   "cell_type": "code",
   "execution_count": null,
   "id": "04472f3a",
   "metadata": {},
   "outputs": [],
   "source": [
    "multiple, assignment = 4, 5  # Set the value of multiple variables at once"
   ]
  },
  {
   "cell_type": "markdown",
   "id": "5b8d4a43",
   "metadata": {},
   "source": [
    "## Comparing Variables \n",
    "\n",
    "It's helpful to compare variables to one another. This process typically \n",
    "returns a boolean value.\n",
    "\n",
    "- `==`: Equal to \n",
    "- `!=`: Not equal to \n",
    "- `<` or `>` : Less/Greater than \n",
    "- `<=` or `=>` : Less/Greater than or equal to "
   ]
  },
  {
   "cell_type": "code",
   "execution_count": null,
   "id": "456e8da1",
   "metadata": {},
   "outputs": [],
   "source": [
    "1 + 1 == 2.0"
   ]
  },
  {
   "cell_type": "code",
   "execution_count": null,
   "id": "3d9ca6df",
   "metadata": {},
   "outputs": [],
   "source": [
    "\"hello\" == \"Hello\""
   ]
  },
  {
   "cell_type": "markdown",
   "id": "31238419",
   "metadata": {},
   "source": [
    "We can combine these with parentheses, `not`, `or` and `and` to resolve more \n",
    "complicated logic. \n",
    "\n",
    "- `not`: Flip the value of the boolean \n",
    "- `and`: Return `True` only if both parts are `True`\n",
    "- `or`: Return `True` if one or both parts are `True` \n",
    "- `()`: Evaluate enclosed part before the rest, like algebra\n",
    "\n",
    "See if you can predict the outcome of each of these..."
   ]
  },
  {
   "cell_type": "code",
   "execution_count": null,
   "id": "be21b72c",
   "metadata": {},
   "outputs": [],
   "source": [
    "(1 < 2) and (2 < 3)"
   ]
  },
  {
   "cell_type": "code",
   "execution_count": null,
   "id": "3006ced2",
   "metadata": {},
   "outputs": [],
   "source": [
    "1 + 1 == 2 and 2 + 2 != 5"
   ]
  },
  {
   "cell_type": "code",
   "execution_count": null,
   "id": "136f1d49",
   "metadata": {},
   "outputs": [],
   "source": [
    "(\"a\" == \"1\") or not True and 1 <= 1"
   ]
  },
  {
   "cell_type": "markdown",
   "id": "087c4815",
   "metadata": {},
   "source": [
    "## Conditional outcomes \n",
    "\n",
    "'Control flow' refers to the conitional execution of code depending on evaluated\n",
    "outcomes. \n",
    "\n",
    "- `if`: Condition testing  \n",
    "- `elif`: Alternative condition (else if)\n",
    "- `else`: All other cases "
   ]
  },
  {
   "cell_type": "code",
   "execution_count": null,
   "id": "f196e440",
   "metadata": {},
   "outputs": [],
   "source": [
    "if isinstance(my_variable, int):\n",
    "    print(\"my_variable is an integer\")\n",
    "elif isinstance(my_variable, float):\n",
    "    print(\"my_variable is a float\")\n",
    "else:\n",
    "    print(\"my_variable is neither an integer nor a float\")"
   ]
  },
  {
   "cell_type": "code",
   "execution_count": null,
   "id": "018076b6",
   "metadata": {},
   "outputs": [],
   "source": [
    "age = 17\n",
    "print(\"This is an adult\" if age >= 18 else \"This is a minor\")"
   ]
  },
  {
   "cell_type": "markdown",
   "id": "923c4cfb",
   "metadata": {},
   "source": [
    "## Variables in strings \n",
    "\n",
    "An 'f-string' is a way to insert variables into strings."
   ]
  },
  {
   "cell_type": "code",
   "execution_count": null,
   "id": "4d6b0003",
   "metadata": {},
   "outputs": [],
   "source": [
    "print(f\"This is the value of my_variable: {my_variable}\")"
   ]
  },
  {
   "cell_type": "markdown",
   "id": "d26d4e56",
   "metadata": {},
   "source": [
    "F-strings can be formatted for the desired level of rounding and padding:"
   ]
  },
  {
   "cell_type": "code",
   "execution_count": null,
   "id": "17099464",
   "metadata": {},
   "outputs": [],
   "source": [
    "pi = 3.14159\n",
    "print(f\"The value of pi is approximately: {pi:.2f}\")  # 2 decimal places"
   ]
  },
  {
   "cell_type": "markdown",
   "id": "4e73dc7b",
   "metadata": {},
   "source": [
    "## Clearing Variables \n",
    "\n",
    "The `Jupyter Variables` view we opened now has a set of variables defined. We\n",
    "can get rid of individual ones with the `del` keyword, or clear them all by \n",
    "restarting the notebook.\n"
   ]
  },
  {
   "cell_type": "code",
   "execution_count": null,
   "id": "671c8ee0",
   "metadata": {},
   "outputs": [],
   "source": [
    "del age"
   ]
  },
  {
   "cell_type": "markdown",
   "id": "2491d932",
   "metadata": {},
   "source": [
    "## Variable Operators (Advanced)\n",
    "Some operators only modify existing variables. "
   ]
  },
  {
   "cell_type": "code",
   "execution_count": null,
   "id": "1d2c4a38",
   "metadata": {},
   "outputs": [],
   "source": [
    "my_variable = 5\n",
    "my_variable += 1  # -> 6\n",
    "my_variable *= 2  # -> 12\n",
    "my_variable /= 6  # -> 2\n",
    "my_variable -= 1  # -> 1\n",
    "print(my_variable)"
   ]
  },
  {
   "cell_type": "markdown",
   "id": "1ff349bb",
   "metadata": {},
   "source": [
    "# Functions (Advanced)\n",
    "\n",
    "We've already seen `print` as a built-in function. Here are a few others to try \n",
    "out on the basic types...\n",
    "\n",
    "- `len(var)`: length\n",
    "- `abs(var)`: absolute value\n",
    "- `isinstance(var, type)`: True if `var` is of given type(s)\n",
    "- `type(var)`: Return the type of a given variable\n",
    "\n",
    "Can you predict the outcome of the following?"
   ]
  },
  {
   "cell_type": "code",
   "execution_count": null,
   "id": "d99da6fa",
   "metadata": {},
   "outputs": [],
   "source": [
    "isinstance(len(\"Hello\"), (float, str))  # (float, str) -> \"either float or str\""
   ]
  },
  {
   "cell_type": "markdown",
   "id": "1aff7a2e",
   "metadata": {},
   "source": [
    "We can define our own functions using the `def`/`return` keywords"
   ]
  },
  {
   "cell_type": "code",
   "execution_count": null,
   "id": "bea0d247",
   "metadata": {},
   "outputs": [],
   "source": [
    "def add_if_above_threshold(x: int, threshold: float = 1.5) -> float:\n",
    "    \"\"\"Adds x to the threshold if x is greater than the threshold.\n",
    "\n",
    "    This is a docstring that describes the function's purpose and behavior.\n",
    "\n",
    "    Args:\n",
    "        x (int): The number to check against the threshold.\n",
    "        threshold (float, optional): The threshold value. Defaults to 1.5.\n",
    "\n",
    "    Returns:\n",
    "        float: The result of adding x to the threshold if x is greater than the\n",
    "            threshold, otherwise returns x as a float.\n",
    "    \"\"\"\n",
    "    if x > threshold:\n",
    "        return x + threshold  # else not required because the function ends here\n",
    "    return float(x)\n",
    "\n",
    "\n",
    "print(f\"Above {add_if_above_threshold(2)}\")\n",
    "print(f\"Below {add_if_above_threshold(x=1, threshold=2.1)}\")\n",
    "\n",
    "assignment = add_if_above_threshold(3, 2.5)\n",
    "print(f\"Also  {assignment}\")"
   ]
  },
  {
   "cell_type": "code",
   "execution_count": 2,
   "id": "4b78a6bf",
   "metadata": {},
   "outputs": [
    {
     "name": "stdout",
     "output_type": "stream",
     "text": [
      "False\n",
      "True\n"
     ]
    }
   ],
   "source": [
    "def has_letter_a(s: str) -> bool:\n",
    "    if not isinstance(s, str):\n",
    "        raise TypeError(\"Input must be a string\")\n",
    "    count_a = s.lower().count(\"a\")  # string to lowercase, then counting `a`s\n",
    "    return count_a > 0\n",
    "\n",
    "\n",
    "print(has_letter_a(\"Hello\"))\n",
    "print(has_letter_a(\"Apple\"))"
   ]
  },
  {
   "cell_type": "markdown",
   "id": "ae8ce968",
   "metadata": {},
   "source": [
    "We don't see `count_a` reflected in the variables panel because this is a 'local'\n",
    "variable. 'global' variables are available everywhere, but Python encapsulates \n",
    "the function."
   ]
  }
 ],
 "metadata": {
  "kernelspec": {
   "display_name": "Python 3",
   "language": "python",
   "name": "python3"
  },
  "language_info": {
   "codemirror_mode": {
    "name": "ipython",
    "version": 3
   },
   "file_extension": ".py",
   "mimetype": "text/x-python",
   "name": "python",
   "nbconvert_exporter": "python",
   "pygments_lexer": "ipython3",
   "version": "3.12.1"
  }
 },
 "nbformat": 4,
 "nbformat_minor": 5
}
