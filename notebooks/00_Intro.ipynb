{
 "cells": [
  {
   "cell_type": "markdown",
   "id": "32bbec94",
   "metadata": {},
   "source": [
    "# VS Code"
   ]
  },
  {
   "cell_type": "markdown",
   "id": "69e854a0",
   "metadata": {},
   "source": [
    "By default, GitHub opens codespaces in VS Code, the most popular IDE \n",
    "(Integrated Development Environment). \n",
    "\n",
    "- **Configuration**: Almost all settings can be adjusted in the Command Palette \n",
    "  by hitting `Ctrl+Shift+P`. Try it out with by searching for `Color Theme` and \n",
    "  trying out the options.\n",
    "- **File navigation**: The bar on the left shows files in the current directory. \n",
    "  Selecting a different file will open it in a new tab. The 'Outline' section \n",
    "  below shows an overview of sections of the current file.\n",
    "- **Additional Views**: \n",
    "  - Terminal: ``    Ctrl+Shift+` `` or Command Palette `Focus Terminal` for \n",
    "    running commnand line\n",
    "  - Jupyter: Command Palette `Jupyter: Focus on Cell Tags View` to see any \n",
    "    variables we've defined"
   ]
  },
  {
   "cell_type": "markdown",
   "id": "6099c8d0",
   "metadata": {},
   "source": [
    "# Jupyter \n"
   ]
  },
  {
   "cell_type": "markdown",
   "id": "ff4b7eda",
   "metadata": {},
   "source": [
    "\n",
    "This course will run notebooks within VS Code as opposed to the \n",
    "[Jupyter Notebook interface](https://digitalhumanities.hkust.edu.hk/tutorials/jupyter-notebook-tips-and-shortcuts/).\n",
    "A Jupyter notebook ([full guide](https://code.visualstudio.com/docs/datascience/jupyter-notebooks)) \n",
    "consits of 'cells' that can either contain...\n",
    "\n",
    "- Markdown text for descriptions\n",
    "  - Includes basic formatting with common special characters\n",
    "  - [What is markdown?](https://www.markdownguide.org/getting-started/)\n",
    "  - [Cheat sheet](https://www.markdownguide.org/cheat-sheet/)\n",
    "- Python code \n",
    "  - Executes operations\n",
    "  - [Why Python](https://github.blog/developer-skills/programming-languages-and-frameworks/why-python-keeps-growing-explained/)\n",
    "  - Cheat sheet: [Basic](https://quickref.me/python.html), \n",
    "    [Advanced](https://www.pythoncheatsheet.org/)\n",
    "\n",
    "Cells can be...\n",
    "\n",
    "- Edited (`Enter` to enter edit mode, `Esc` to exit)\n",
    "- Run (`Ctrl+Enter` or play button) to show markdown result or run code\n",
    "- Added (`a` for above, `b` for below) to insert an empty cell\n",
    "- Cut/paste (`x`/`v`) to rearrange\n",
    "- Changed in type (`m` for markdown, `y` for python)\n",
    "- Split (`Ctrl+Shift+-`) to generate a new cell below the cursor\n",
    "- Undo (`u`) can revert some operations \n",
    "- Hidden (`right`) and Shown (`left`) to collapse/fold sections based on \n",
    "  markdown heading."
   ]
  },
  {
   "cell_type": "markdown",
   "id": "5dd39edb",
   "metadata": {},
   "source": [
    "# Cell Demo"
   ]
  },
  {
   "cell_type": "markdown",
   "id": "dbd6e993",
   "metadata": {},
   "source": [
    "## Adding a cell"
   ]
  },
  {
   "cell_type": "markdown",
   "id": "2d22401e",
   "metadata": {},
   "source": [
    "1. Let's try adding a cell below this one by clicking on it and hitting `b`. \n",
    "  By default, new cells will be in Python.\n",
    "1. Once created, try changing it to a markdown cell (`m`) and adding some bold \n",
    "  text with `**your text**`"
   ]
  },
  {
   "cell_type": "markdown",
   "id": "57b73314",
   "metadata": {},
   "source": [
    "## Splitting a cell"
   ]
  },
  {
   "cell_type": "markdown",
   "id": "d83b1276",
   "metadata": {},
   "source": [
    "`Enter` to edit this cell and move your curor\n",
    "to the period. Use `Crtl+Shift+-` to split it in two."
   ]
  },
  {
   "cell_type": "markdown",
   "id": "4a20e432",
   "metadata": {},
   "source": [
    "## Running a cell"
   ]
  },
  {
   "cell_type": "markdown",
   "id": "9572e239",
   "metadata": {},
   "source": [
    "Hover over the cell below and run it to print output."
   ]
  },
  {
   "cell_type": "code",
   "execution_count": null,
   "id": "63906c5c",
   "metadata": {},
   "outputs": [
    {
     "name": "stdout",
     "output_type": "stream",
     "text": [
      "Hello, world!\n"
     ]
    }
   ],
   "source": [
    "print('Hello, world!')"
   ]
  },
  {
   "cell_type": "markdown",
   "id": "e165e09f",
   "metadata": {},
   "source": [
    "## See local variables"
   ]
  },
  {
   "cell_type": "markdown",
   "id": "a392b89d",
   "metadata": {},
   "source": [
    "Open the Jupyter view with the command pallete. See what changes when you \n",
    "run the cell below."
   ]
  },
  {
   "cell_type": "code",
   "execution_count": 3,
   "id": "5ad0c54a",
   "metadata": {},
   "outputs": [],
   "source": [
    "a=1"
   ]
  },
  {
   "cell_type": "markdown",
   "id": "dfff99cf",
   "metadata": {},
   "source": [
    "# Data Types"
   ]
  },
  {
   "cell_type": "markdown",
   "id": "f8206e8b",
   "metadata": {},
   "source": [
    "Python has a handful of \n",
    "[basic data types](https://www.pythoncheatsheet.org/cheatsheet/basics#data-types)\n",
    "that we can manipulate with operators and combine into more \n",
    "[complex types](https://www.pythoncheatsheet.org/cheatsheet/lists-and-tuples).\n",
    "\n",
    "## Basic Types\n",
    "\n",
    "- Integers (`int`): Whole numbers (-1, 0, 5)\n",
    "- Floating point numbers (`float`): Precise numbers (-0.5, 3.001)\n",
    "- Strings (`str`): Sets of characters ('Hello!', '$30', '1 car', '11')\n",
    "\n",
    "Just because something looks like an integer doesn't mean it is!\n",
    "\n",
    "## Operators\n",
    "\n",
    "Many operators are based on familiar math symbols.\n",
    "\n",
    "- `+`, `-`, `*`, `/`, `**`: Add, subtract, multiply, divide, exponents\n",
    "- `//`, `%`: Integer division, modulo\n"
   ]
  },
  {
   "cell_type": "markdown",
   "id": "319bccf8",
   "metadata": {},
   "source": [
    "## Operator Demo\n",
    "\n",
    "Let's try predicting the outcome of these cells before running each."
   ]
  },
  {
   "cell_type": "code",
   "execution_count": 5,
   "id": "7c291d40",
   "metadata": {},
   "outputs": [
    {
     "data": {
      "text/plain": [
       "2"
      ]
     },
     "execution_count": 5,
     "metadata": {},
     "output_type": "execute_result"
    }
   ],
   "source": [
    "1+1"
   ]
  },
  {
   "cell_type": "code",
   "execution_count": 6,
   "id": "f123c85b",
   "metadata": {},
   "outputs": [
    {
     "data": {
      "text/plain": [
       "10"
      ]
     },
     "execution_count": 6,
     "metadata": {},
     "output_type": "execute_result"
    }
   ],
   "source": [
    "10-(1*0)"
   ]
  },
  {
   "cell_type": "code",
   "execution_count": null,
   "id": "c63a3fe0",
   "metadata": {},
   "outputs": [
    {
     "data": {
      "text/plain": [
       "8.5"
      ]
     },
     "execution_count": 7,
     "metadata": {},
     "output_type": "execute_result"
    }
   ],
   "source": [
    "(2**3) + (1/2)"
   ]
  },
  {
   "cell_type": "code",
   "execution_count": 8,
   "id": "6624a85a",
   "metadata": {},
   "outputs": [
    {
     "data": {
      "text/plain": [
       "10"
      ]
     },
     "execution_count": 8,
     "metadata": {},
     "output_type": "execute_result"
    }
   ],
   "source": [
    "101 // 10"
   ]
  },
  {
   "cell_type": "code",
   "execution_count": 9,
   "id": "b779976d",
   "metadata": {},
   "outputs": [
    {
     "data": {
      "text/plain": [
       "2"
      ]
     },
     "execution_count": 9,
     "metadata": {},
     "output_type": "execute_result"
    }
   ],
   "source": [
    "52 % 5"
   ]
  },
  {
   "cell_type": "code",
   "execution_count": 10,
   "id": "84d35aa5",
   "metadata": {},
   "outputs": [
    {
     "data": {
      "text/plain": [
       "'1.01.0'"
      ]
     },
     "execution_count": 10,
     "metadata": {},
     "output_type": "execute_result"
    }
   ],
   "source": [
    "'1.0' * 2"
   ]
  },
  {
   "cell_type": "code",
   "execution_count": 12,
   "id": "6c1d2689",
   "metadata": {},
   "outputs": [
    {
     "ename": "TypeError",
     "evalue": "unsupported operand type(s) for /: 'str' and 'float'",
     "output_type": "error",
     "traceback": [
      "\u001b[31m---------------------------------------------------------------------------\u001b[39m",
      "\u001b[31mTypeError\u001b[39m                                 Traceback (most recent call last)",
      "\u001b[36mCell\u001b[39m\u001b[36m \u001b[39m\u001b[32mIn[12]\u001b[39m\u001b[32m, line 1\u001b[39m\n\u001b[32m----> \u001b[39m\u001b[32m1\u001b[39m \u001b[33;43m'\u001b[39;49m\u001b[33;43m10\u001b[39;49m\u001b[33;43m'\u001b[39;49m\u001b[43m \u001b[49m\u001b[43m/\u001b[49m\u001b[43m \u001b[49m\u001b[32;43m.5\u001b[39;49m\n",
      "\u001b[31mTypeError\u001b[39m: unsupported operand type(s) for /: 'str' and 'float'"
     ]
    }
   ],
   "source": [
    "'10' / .5"
   ]
  },
  {
   "cell_type": "markdown",
   "id": "ef9750a0",
   "metadata": {},
   "source": [
    "## Type wrangling\n",
    "\n",
    "In the last cell, we saw how an unexpected type can cause issues. We might want \n",
    "to multiply a string to get a longer string, but it won't work the same as math\n",
    "operations. Instead, we can wrangle the type..."
   ]
  },
  {
   "cell_type": "code",
   "execution_count": 13,
   "id": "eceb2ad2",
   "metadata": {},
   "outputs": [
    {
     "data": {
      "text/plain": [
       "2.0"
      ]
     },
     "execution_count": 13,
     "metadata": {},
     "output_type": "execute_result"
    }
   ],
   "source": [
    "float('1.0') * 2"
   ]
  },
  {
   "cell_type": "markdown",
   "id": "945a7c1a",
   "metadata": {},
   "source": [
    "## Variable assignment \n",
    "\n",
    "To reuse values, it's helpful to assign then to a variable. Variable names must \n",
    "only use letters, numbers, and underscores. And, by convention, they should \n",
    "use 'snake case', words separated by underscores."
   ]
  },
  {
   "cell_type": "code",
   "execution_count": null,
   "id": "bfa8857e",
   "metadata": {},
   "outputs": [],
   "source": [
    "a = 1"
   ]
  },
  {
   "cell_type": "code",
   "execution_count": null,
   "id": "37e4dfec",
   "metadata": {},
   "outputs": [],
   "source": [
    "bad name = 2"
   ]
  },
  {
   "cell_type": "code",
   "execution_count": null,
   "id": "096f42ea",
   "metadata": {},
   "outputs": [],
   "source": [
    "good_name1 = 2"
   ]
  },
  {
   "cell_type": "code",
   "execution_count": 14,
   "id": "2614bbbb",
   "metadata": {},
   "outputs": [],
   "source": [
    "_WorksButNotRecommended = 3"
   ]
  }
 ],
 "metadata": {
  "kernelspec": {
   "display_name": "Python 3",
   "language": "python",
   "name": "python3"
  },
  "language_info": {
   "codemirror_mode": {
    "name": "ipython",
    "version": 3
   },
   "file_extension": ".py",
   "mimetype": "text/x-python",
   "name": "python",
   "nbconvert_exporter": "python",
   "pygments_lexer": "ipython3",
   "version": "3.12.1"
  }
 },
 "nbformat": 4,
 "nbformat_minor": 5
}
