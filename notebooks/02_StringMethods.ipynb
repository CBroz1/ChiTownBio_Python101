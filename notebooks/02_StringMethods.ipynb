{
 "cells": [
  {
   "cell_type": "markdown",
   "metadata": {},
   "source": [
    "# String Manipulation\n"
   ]
  },
  {
   "cell_type": "markdown",
   "metadata": {},
   "source": [
    "\n",
    "Building on our work with strings, lists, and dictionaries, let's tackle another [Rosalind Problem](https://rosalind.info/problems/rna/) that focuses on string manipulation.\n",
    "\n",
    "This problem introduces us to a fundamental concept in molecular biology: **transcription** - the process of creating RNA from a DNA template.\n"
   ]
  },
  {
   "cell_type": "markdown",
   "metadata": {},
   "source": [
    "\n",
    "## String Methods\n",
    "\n",
    "Before we dive into the problem, let's review some useful string methods.\n",
    "\n",
    "We can modify the case of the whole string with various methods of the format \n",
    "`my_string.method()`.\n"
   ]
  },
  {
   "cell_type": "code",
   "execution_count": 10,
   "metadata": {},
   "outputs": [
    {
     "name": "stdout",
     "output_type": "stream",
     "text": [
      "lower:  hello world\n",
      "upper:  HELLO WORLD\n",
      "title:  Hello World\n",
      "caps :  Hello world\n",
      "swap :  hello WORLD\n"
     ]
    }
   ],
   "source": [
    "my_string = \"HELLO world\"\n",
    "print(\"lower: \", my_string.lower())  # Convert to lowercase\n",
    "print(\"upper: \", my_string.upper())  # Convert to uppercase\n",
    "print(\"title: \", my_string.title())  # Convert to title case\n",
    "print(\"caps : \", my_string.capitalize())  # Convert to capitalized case\n",
    "print(\"swap : \", my_string.swapcase())  # Swap case"
   ]
  },
  {
   "cell_type": "markdown",
   "metadata": {},
   "source": [
    "There are methods that allow us to test if a given string is all upper/lower \n",
    "case."
   ]
  },
  {
   "cell_type": "code",
   "execution_count": 15,
   "metadata": {},
   "outputs": [
    {
     "name": "stdout",
     "output_type": "stream",
     "text": [
      "AA upper:  True\n",
      "aa lower:  True\n",
      "AA title:  False\n",
      "Start H : True\n",
      "End d   : True\n",
      "Contains 'lo' : False\n",
      "Count 'l's    : 1\n",
      "Index of 'l'  : 9\n"
     ]
    }
   ],
   "source": [
    "print(\"AA upper: \", \"AA\".isupper())\n",
    "print(\"aa lower: \", \"aa\".islower())\n",
    "print(\"AA title: \", \"AA\".istitle())\n",
    "print(\"Start H :\", my_string.startswith(\"H\"))  # Check if starts with 'H'\n",
    "print(\"End d   :\", my_string.endswith(\"d\"))  # Check if ends with 'd'\n",
    "print(\"Contains 'lo' :\", \"lo\" in my_string)  # Check if contains 'lo'\n",
    "print(\"Count 'l's    :\", my_string.count(\"l\"))  # Count occurrences of 'l'\n",
    "print(\"Index of 'l'  :\", my_string.index(\"l\"))  # Find index of first 'l'"
   ]
  },
  {
   "cell_type": "markdown",
   "metadata": {},
   "source": [
    "We can swap out specific characters. Notice that `L` is considered different\n",
    "from `l`"
   ]
  },
  {
   "cell_type": "code",
   "execution_count": 6,
   "metadata": {},
   "outputs": [
    {
     "name": "stdout",
     "output_type": "stream",
     "text": [
      "HEXXO world\n"
     ]
    }
   ],
   "source": [
    "print(my_string.replace(\"L\", \"X\"))"
   ]
  },
  {
   "cell_type": "markdown",
   "metadata": {},
   "source": [
    "## Iterating on Strings"
   ]
  },
  {
   "cell_type": "markdown",
   "metadata": {},
   "source": [
    "We can also treat strings in some of the same ways as lists:"
   ]
  },
  {
   "cell_type": "code",
   "execution_count": 26,
   "metadata": {},
   "outputs": [
    {
     "name": "stdout",
     "output_type": "stream",
     "text": [
      "Upper:  H\n",
      "Upper:  E\n",
      "Upper:  L\n",
      "Upper:  L\n",
      "Upper:  O\n",
      "Assembled:  WORLD\n"
     ]
    }
   ],
   "source": [
    "assembled = \"\"\n",
    "for char in my_string:\n",
    "    if char.isupper():\n",
    "        print(\"Upper: \", char)\n",
    "    elif char.islower():  # Skips the space\n",
    "        assembled += char.upper()  # append a new capitalized letter\n",
    "print(\"Assembled: \", assembled)"
   ]
  },
  {
   "cell_type": "code",
   "execution_count": 10,
   "metadata": {},
   "outputs": [
    {
     "name": "stdout",
     "output_type": "stream",
     "text": [
      "HELLO\n"
     ]
    }
   ],
   "source": [
    "print(my_string[0:5])  # Slice the string from index 0 to 4"
   ]
  },
  {
   "cell_type": "markdown",
   "metadata": {},
   "source": [
    "And even generate strings with operators:"
   ]
  },
  {
   "cell_type": "code",
   "execution_count": 8,
   "metadata": {},
   "outputs": [
    {
     "name": "stdout",
     "output_type": "stream",
     "text": [
      "**********\n"
     ]
    }
   ],
   "source": [
    "print(\"*\" * 10)  # Repeat the asterisk 10 times"
   ]
  },
  {
   "cell_type": "markdown",
   "metadata": {},
   "source": [
    "And even split strings based on specific characters into a list"
   ]
  },
  {
   "cell_type": "code",
   "execution_count": 11,
   "metadata": {},
   "outputs": [
    {
     "name": "stdout",
     "output_type": "stream",
     "text": [
      "['HELLO', 'world']\n"
     ]
    }
   ],
   "source": [
    "print(my_string.split(\" \"))  # Split the string by spaces"
   ]
  },
  {
   "cell_type": "markdown",
   "metadata": {},
   "source": [
    "In the next cell, try adding a string you can split based on commas:"
   ]
  },
  {
   "cell_type": "code",
   "execution_count": null,
   "metadata": {},
   "outputs": [],
   "source": [
    "your_string = \"\"  # Try splitting based on a different character\n",
    "print()"
   ]
  },
  {
   "cell_type": "markdown",
   "metadata": {},
   "source": [
    "This can be helpul to reorder pieces of a given input."
   ]
  },
  {
   "cell_type": "code",
   "execution_count": 13,
   "metadata": {},
   "outputs": [
    {
     "name": "stdout",
     "output_type": "stream",
     "text": [
      "Reordered:  First.Second.Third\n"
     ]
    }
   ],
   "source": [
    "new_string = \"Third.First.Second\"\n",
    "new_list = new_string.split(\".\")  # Split the string by '.'\n",
    "reordered = [new_list[1], new_list[2], new_list[0]]  # Reorder the list\n",
    "print(\"Reordered: \", \".\".join(reordered))  # Join this list into a string"
   ]
  },
  {
   "cell_type": "markdown",
   "metadata": {},
   "source": [
    "## Special cases"
   ]
  },
  {
   "cell_type": "markdown",
   "metadata": {},
   "source": [
    "We need to be explicit about some special characters in strings, like ...\n",
    "\n",
    "- Quotes `\\\"`\n",
    "- Tabs `\\t`\n",
    "- Newlines `\\n`\n",
    "\n",
    "Because Python is flexible on requiring `'` vs `\"` to define a string, this may \n",
    "only come up if we need both"
   ]
  },
  {
   "cell_type": "code",
   "execution_count": 19,
   "metadata": {},
   "outputs": [
    {
     "name": "stdout",
     "output_type": "stream",
     "text": [
      "I have \"double\" quotes\n",
      "I have 'single' quotes\n",
      "I have both 'single' and \"double\" quotes\n",
      "I have \n",
      "\t- new lines \n",
      "\t- tabs\n"
     ]
    }
   ],
   "source": [
    "print('I have \"double\" quotes')\n",
    "print(\"I have 'single' quotes\")\n",
    "print(\"I have both 'single' and \\\"double\\\" quotes\")\n",
    "print(\"I have \\n\\t- new lines \\n\\t- tabs\")"
   ]
  },
  {
   "cell_type": "markdown",
   "metadata": {},
   "source": [
    "For longer quotes, tripple-quoting tells Python to incorporate linebreaks.\n"
   ]
  },
  {
   "cell_type": "code",
   "execution_count": 23,
   "metadata": {},
   "outputs": [
    {
     "name": "stdout",
     "output_type": "stream",
     "text": [
      "My \n",
      "multiline \n",
      "string\n"
     ]
    }
   ],
   "source": [
    "print(\n",
    "    \"\"\"My \n",
    "multiline \n",
    "string\"\"\"\n",
    ")"
   ]
  },
  {
   "cell_type": "markdown",
   "metadata": {},
   "source": [
    "## Problem\n",
    "\n",
    "## Bio Background \n",
    "In cells, DNA serves as the template for creating RNA through transcription:\n",
    "\n",
    "DNA uses bases: A, T, G, C\n",
    "RNA uses bases: A, U, G, C\n",
    "The key difference: T in DNA becomes U in RNA"
   ]
  },
  {
   "cell_type": "markdown",
   "metadata": {},
   "source": [
    "## Problem Statement\n",
    "\n",
    "- **Given**: A DNA string t of length at most 1000 nt.\n",
    "- **Return**: The transcribed RNA string of t.\n",
    "\n",
    "Let's look at the sample:"
   ]
  },
  {
   "cell_type": "code",
   "execution_count": 1,
   "metadata": {},
   "outputs": [],
   "source": [
    "t = \"GATGGAACTTGACTACGTAAATT\"\n",
    "expected = \"GAUGGAACUUGACUACGUAAAUU\""
   ]
  },
  {
   "cell_type": "markdown",
   "metadata": {},
   "source": [
    "Notice how every 'T' in the DNA string becomes 'U' in the RNA string, while A, G, and C remain unchanged.\n",
    "\n",
    "This repository comes with a validator to check solutions. No peeking!"
   ]
  },
  {
   "cell_type": "code",
   "execution_count": 2,
   "metadata": {},
   "outputs": [
    {
     "data": {
      "text/plain": [
       "True"
      ]
     },
     "execution_count": 2,
     "metadata": {},
     "output_type": "execute_result"
    }
   ],
   "source": [
    "import os\n",
    "\n",
    "if os.getcwd().endswith(\"notebooks\"):\n",
    "    os.chdir(\"..\")\n",
    "\n",
    "from src.rna import validator\n",
    "\n",
    "validator(t, expected)"
   ]
  },
  {
   "cell_type": "markdown",
   "metadata": {},
   "source": [
    "What can you do to process this input t and return the transcribed RNA?"
   ]
  },
  {
   "cell_type": "code",
   "execution_count": 4,
   "metadata": {},
   "outputs": [
    {
     "name": "stdout",
     "output_type": "stream",
     "text": [
      "Length mismatch: DNA has 23 characters, RNA has 5 characters\n"
     ]
    },
    {
     "data": {
      "text/plain": [
       "False"
      ]
     },
     "execution_count": 4,
     "metadata": {},
     "output_type": "execute_result"
    }
   ],
   "source": [
    "# your code here\n",
    "rna_result = \"AAAAA\"\n",
    "\n",
    "validator(t, rna_result)  # Validate your answer"
   ]
  },
  {
   "cell_type": "markdown",
   "metadata": {},
   "source": [
    "<details><summary>Hint 1</summary>\n",
    "\n",
    "Think about this step by step:\n",
    "\n",
    "- Look at each character in the DNA string\n",
    "- If it's a 'T', change it to 'U' in your output\n",
    "\n",
    "</details>"
   ]
  },
  {
   "cell_type": "markdown",
   "metadata": {},
   "source": [
    "Now, let's try on a larger dataset:"
   ]
  },
  {
   "cell_type": "code",
   "execution_count": 5,
   "metadata": {},
   "outputs": [
    {
     "name": "stdout",
     "output_type": "stream",
     "text": [
      "RNA string contains invalid character(s): {'s', 'h', 'e', 't', 'i', 'n', 'g', 'o', 'm'}\n"
     ]
    },
    {
     "data": {
      "text/plain": [
       "False"
      ]
     },
     "execution_count": 5,
     "metadata": {},
     "output_type": "execute_result"
    }
   ],
   "source": [
    "with open(\"data/rosalind_rna.txt\", \"r\") as file:\n",
    "    t = file.read().strip()  # Get a larger DNA sequence from a file\n",
    "\n",
    "# Your code here\n",
    "rna_result = \"something\"\n",
    "\n",
    "validator(t, rna_result)  # Validate your answer with the larger sequence"
   ]
  },
  {
   "cell_type": "markdown",
   "metadata": {},
   "source": [
    "<details><summary>Hint 2</summary>\n",
    "\n",
    "You could solve this with a loop:\n",
    "\n",
    "```python\n",
    "for nucleotide in t:\n",
    "    if nucleotide == \"T\":\n",
    "        \"Do something\"\n",
    "    else:\n",
    "        \"Do another thing\"\n",
    "```\n",
    "</details>"
   ]
  },
  {
   "cell_type": "markdown",
   "metadata": {},
   "source": [
    "<details><summary>Hint 3</summary>\n",
    "\n",
    "For each character in the input, you want to conditionally append to your output\n",
    "\n",
    "```python\n",
    "rna_result = \"\"\n",
    "for char in t:\n",
    "    if condition:\n",
    "        rna_result += \"X\"\n",
    "    else:\n",
    "        rna_reult += char\n",
    "```\n",
    "\n",
    "</details>"
   ]
  },
  {
   "cell_type": "markdown",
   "metadata": {},
   "source": [
    "Some solutions (there are many!):\n",
    "\n",
    "<details><summary>Solution 1</summary>\n",
    "\n",
    "Using a loop:\n",
    "\n",
    "```python\n",
    "rna_result = \"\"\n",
    "for nucleotide in t:\n",
    "    if nucleotide == \"T\":\n",
    "        rna_result += \"U\"\n",
    "    else:\n",
    "        rna_result += nucleotide\n",
    "```\n",
    "</details>\n"
   ]
  },
  {
   "cell_type": "markdown",
   "metadata": {},
   "source": [
    "<details><summary>Solution 2</summary>\n",
    "\n",
    "Using a `join`\n",
    "\n",
    "```python\n",
    "rna_result = \"U\".join(t.split(\"T\"))\n",
    "```\n",
    "</details>"
   ]
  },
  {
   "cell_type": "markdown",
   "metadata": {},
   "source": [
    "<details><summary>Solution 3</summary>\n",
    "\n",
    "Using a `replace`\n",
    "\n",
    "```python\n",
    "rna_result = t.replace(\"T\", \"U\")\n",
    "```\n",
    "</details>\n"
   ]
  },
  {
   "cell_type": "markdown",
   "metadata": {},
   "source": [
    "# Advanced\n",
    "\n",
    "There are several other string methods and techniques that could help solve this problem efficiently.\n",
    "\n",
    "<details><summary>Other methods</summary>\n",
    "\n",
    "- `str.translate()`: Create a translation table for character mapping\n",
    "- `map()`: Apply a function to each character\n",
    "\n",
    "Example with translate:\n",
    "\n",
    "```python\n",
    "translation_table = str.maketrans(\"T\", \"U\")\n",
    "rna_result = t.translate(translation_table)\n",
    "```\n",
    "\n",
    "Example with map: \n",
    "\n",
    "```python\n",
    "def swap_u(s):\n",
    "    return \"U\" if s == \"T\" else s\n",
    "\n",
    "\n",
    "\"\".join(list(map(swap_u, \"ABCTTG\")))\n",
    "```\n",
    "\n",
    "</details>\n",
    "\n",
    "Try implementing the solution using a different method, or create your own validator function that checks if the transcription follows the biological rules correctly."
   ]
  },
  {
   "cell_type": "code",
   "execution_count": null,
   "metadata": {},
   "outputs": [
    {
     "data": {
      "text/plain": [
       "'ABCUUG'"
      ]
     },
     "execution_count": 21,
     "metadata": {},
     "output_type": "execute_result"
    }
   ],
   "source": []
  },
  {
   "cell_type": "code",
   "execution_count": null,
   "metadata": {},
   "outputs": [],
   "source": [
    "# Your alternative solution here\n",
    "\n",
    "\n",
    "# Bonus: Create a reverse function that converts RNA back to DNA\n",
    "def rna_to_dna(rna_string):\n",
    "    # Your code here\n",
    "    pass"
   ]
  },
  {
   "cell_type": "code",
   "execution_count": null,
   "metadata": {},
   "outputs": [],
   "source": []
  }
 ],
 "metadata": {
  "kernelspec": {
   "display_name": "spy",
   "language": "python",
   "name": "python3"
  },
  "language_info": {
   "codemirror_mode": {
    "name": "ipython",
    "version": 3
   },
   "file_extension": ".py",
   "mimetype": "text/x-python",
   "name": "python",
   "nbconvert_exporter": "python",
   "pygments_lexer": "ipython3",
   "version": "3.10.16"
  }
 },
 "nbformat": 4,
 "nbformat_minor": 4
}
