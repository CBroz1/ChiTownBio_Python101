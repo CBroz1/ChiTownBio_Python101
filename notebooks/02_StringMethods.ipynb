{
 "cells": [
  {
   "cell_type": "markdown",
   "metadata": {},
   "source": [
    "# String Manipulation\n",
    "Building on our work with strings, lists, and dictionaries, let's tackle another [Rosalind Problem](https://rosalind.info/problems/rna/) that focuses on string manipulation.\n",
    "\n",
    "This problem introduces us to a fundamental concept in molecular biology: **transcription** - the process of creating RNA from a DNA template.\n",
    "\n",
    "## String Methods Review\n",
    "\n",
    "Before we dive into the problem, let's review some useful string methods:\n"
   ]
  },
  {
   "cell_type": "code",
   "execution_count": 1,
   "metadata": {},
   "outputs": [
    {
     "name": "stdout",
     "output_type": "stream",
     "text": [
      "HEXXO WORXD\n",
      "hello world\n",
      "HELLO WORLD\n"
     ]
    }
   ],
   "source": [
    "my_string = \"HELLO WORLD\"\n",
    "print(my_string.replace(\"L\", \"X\"))  # Replace all 'L' with 'X'\n",
    "print(my_string.lower())            # Convert to lowercase\n",
    "print(my_string.upper())            # Convert to uppercase"
   ]
  },
  {
   "cell_type": "markdown",
   "metadata": {},
   "source": [
    "We can also build new strings character by character:"
   ]
  },
  {
   "cell_type": "code",
   "execution_count": 2,
   "metadata": {},
   "outputs": [
    {
     "name": "stdout",
     "output_type": "stream",
     "text": [
      "AXC\n"
     ]
    }
   ],
   "source": [
    "original = \"ABC\"\n",
    "new_string = \"\"\n",
    "for char in original:\n",
    "    if char == \"B\":\n",
    "        new_string += \"X\"  # Replace B with X\n",
    "    else:\n",
    "        new_string += char\n",
    "print(new_string)  # \"AXC\""
   ]
  },
  {
   "cell_type": "markdown",
   "metadata": {},
   "source": [
    "### The Biology Behind It\n",
    "In cells, DNA serves as the template for creating RNA through transcription:\n",
    "\n",
    "DNA uses bases: A, T, G, C\n",
    "RNA uses bases: A, U, G, C\n",
    "The key difference: T in DNA becomes U in RNA"
   ]
  },
  {
   "cell_type": "markdown",
   "metadata": {},
   "source": [
    "# Problem\n",
    "\n",
    "**Given**: A DNA string t of length at most 1000 nt.\n",
    "**Return**: The transcribed RNA string of t.\n",
    "Let's look at the sample:"
   ]
  },
  {
   "cell_type": "code",
   "execution_count": 3,
   "metadata": {},
   "outputs": [],
   "source": [
    "t = \"GATGGAACTTGACTACGTAAATT\"\n",
    "expected = \"GAUGGAACUUGACUACGUAAAUU\""
   ]
  },
  {
   "cell_type": "markdown",
   "metadata": {},
   "source": [
    "Notice how every 'T' in the DNA string becomes 'U' in the RNA string, while A, G, and C remain unchanged.\n",
    "\n",
    "This repository comes with a validator to check solutions. No peeking!"
   ]
  },
  {
   "cell_type": "code",
   "execution_count": 10,
   "metadata": {},
   "outputs": [
    {
     "data": {
      "text/plain": [
       "True"
      ]
     },
     "execution_count": 10,
     "metadata": {},
     "output_type": "execute_result"
    }
   ],
   "source": [
    "import os\n",
    "\n",
    "if os.getcwd().endswith(\"notebooks\"):\n",
    "    os.chdir(\"..\")\n",
    "\n",
    "from src.rna import validator\n",
    "\n",
    "validator(t, expected)"
   ]
  },
  {
   "cell_type": "markdown",
   "metadata": {},
   "source": [
    "What can you do to process this input t and return the transcribed RNA?"
   ]
  },
  {
   "cell_type": "code",
   "execution_count": 11,
   "metadata": {},
   "outputs": [
    {
     "name": "stdout",
     "output_type": "stream",
     "text": [
      "RNA string contains invalid character: s\n"
     ]
    },
    {
     "data": {
      "text/plain": [
       "False"
      ]
     },
     "execution_count": 11,
     "metadata": {},
     "output_type": "execute_result"
    }
   ],
   "source": [
    "# your code here\n",
    "rna_result = \"something\"\n",
    "\n",
    "validator(t, rna_result)  # Validate your answer"
   ]
  },
  {
   "cell_type": "markdown",
   "metadata": {},
   "source": [
    "<details><summary>Hint 1</summary>\n",
    "\n",
    "Think about this step by step:\n",
    "\n",
    "- Look at each character in the DNA string\n",
    "- If it's a 'T', change it to 'U'\n",
    "- If it's anything else (A, G, C), keep it the same\n",
    "- Build up the RNA string character by character\n",
    "\n",
    "</details>"
   ]
  },
  {
   "cell_type": "markdown",
   "metadata": {},
   "source": [
    "Now, let's try on a larger dataset:"
   ]
  },
  {
   "cell_type": "code",
   "execution_count": 12,
   "metadata": {},
   "outputs": [],
   "source": [
    "with open(\"data/rosalind_rna.txt\", \"r\") as file:\n",
    "    t = file.read().strip()  # Get a larger DNA sequence from a file\n",
    "\n",
    "# Your code here"
   ]
  },
  {
   "cell_type": "markdown",
   "metadata": {},
   "source": [
    "<details><summary>Hint 2</summary>\n",
    "You could solve this with a loop:\n",
    "\n",
    "```python\n",
    "rna_result = \"\"\n",
    "for nucleotide in t:\n",
    "    if nucleotide == \"T\":\n",
    "        rna_result += \"U\"\n",
    "    else:\n",
    "        rna_result += nucleotide\n",
    "```"
   ]
  },
  {
   "cell_type": "markdown",
   "metadata": {},
   "source": [
    "But there might be an even simpler way...\n",
    "</details>"
   ]
  },
  {
   "cell_type": "markdown",
   "metadata": {},
   "source": [
    "<details><summary>Hint 3</summary>\n",
    "Python strings have a built-in method that can replace all occurrences of one character with another. Think about what method that might be!\n",
    "</details>"
   ]
  },
  {
   "cell_type": "markdown",
   "metadata": {},
   "source": [
    "One solution (there are many!):\n",
    "\n",
    "<details><summary>Solution</summary>\n",
    "\n",
    "```python\n",
    "# Method 1: Using string replace (most efficient)\n",
    "rna_result = t.replace(\"T\", \"U\")\n",
    "\n",
    "# Method 2: Using a loop (more explicit)\n",
    "rna_result = \"\"\n",
    "for nucleotide in t:\n",
    "    if nucleotide == \"T\":\n",
    "        rna_result += \"U\"\n",
    "    else:\n",
    "        rna_result += nucleotide\n",
    "\n",
    "# Method 3: Using list comprehension and join\n",
    "rna_result = \"\".join([\"U\" if nucleotide == \"T\" else nucleotide for nucleotide in t])\n",
    "```\n",
    "</details>"
   ]
  },
  {
   "cell_type": "markdown",
   "metadata": {},
   "source": [
    "# Advanced\n",
    "\n",
    "There are several other string methods and techniques that could help solve this problem efficiently.\n",
    "<details><summary>Other methods</summary>\n",
    "\n",
    "str.translate() with str.maketrans(): Create a translation table for character mapping\n",
    "str.join(): Efficiently combine a list of characters into a string\n",
    "List comprehensions: Create lists (or strings) in a concise way\n",
    "map() function: Apply a function to each character\n",
    "\n",
    "Example with translate:\n",
    "\n",
    "```python\n",
    "translation_table = str.maketrans(\"T\", \"U\")\n",
    "rna_result = t.translate(translation_table)\n",
    "```\n",
    "\n",
    "</details>\n",
    "Try implementing the solution using a different method, or create your own validator function that checks if the transcription follows the biological rules correctly."
   ]
  },
  {
   "cell_type": "code",
   "execution_count": 9,
   "metadata": {},
   "outputs": [],
   "source": [
    "# Your alternative solution here\n",
    "\n",
    "# Bonus: Create a reverse function that converts RNA back to DNA\n",
    "def rna_to_dna(rna_string):\n",
    "    # Your code here\n",
    "    pass"
   ]
  },
  {
   "cell_type": "code",
   "execution_count": null,
   "metadata": {},
   "outputs": [],
   "source": []
  }
 ],
 "metadata": {
  "kernelspec": {
   "display_name": "Python 3",
   "language": "python",
   "name": "python3"
  },
  "language_info": {
   "codemirror_mode": {
    "name": "ipython",
    "version": 3
   },
   "file_extension": ".py",
   "mimetype": "text/x-python",
   "name": "python",
   "nbconvert_exporter": "python",
   "pygments_lexer": "ipython3",
   "version": "3.9.6"
  }
 },
 "nbformat": 4,
 "nbformat_minor": 4
}
