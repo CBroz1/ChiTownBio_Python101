{
 "cells": [
  {
   "cell_type": "markdown",
   "id": "71276719",
   "metadata": {},
   "source": [
    "# Iteration\n",
    "\n",
    "Last time, we looked at basic types (`bool`, `int`, `str`, `float`). \n",
    "\n",
    "This time, we'll look at a few more types to be able to tackle our first \n",
    "[Rosalind Problem](https://rosalind.info/problems/dna/).\n",
    "\n",
    "- `list`: ordered collection of values, modifyable during execution.\n",
    "- `dict`: dictionary. A key-value mapping, like a collection of variables \n",
    "\n",
    "When we want to 'iterate' over some collection, interacting with each value,\n",
    "we use a `for` loop."
   ]
  },
  {
   "cell_type": "markdown",
   "id": "032db013",
   "metadata": {
    "vscode": {
     "languageId": "plaintext"
    }
   },
   "source": [
    "## Lists\n",
    "\n",
    "Let's try looking at each element in a list."
   ]
  },
  {
   "cell_type": "code",
   "execution_count": null,
   "id": "cca8b1eb",
   "metadata": {},
   "outputs": [],
   "source": [
    "for value in [1, 2, 3, 4, 5]:\n",
    "    if value == 3:\n",
    "        continue  # skip the rest of the loop for this iteration\n",
    "    print(value * 2)"
   ]
  },
  {
   "cell_type": "markdown",
   "id": "87459090",
   "metadata": {},
   "source": [
    "For just getting a predictable sequence of integers, we can use `range(int)`, \n",
    "which takes up to three arguments: start, stop, and step."
   ]
  },
  {
   "cell_type": "code",
   "execution_count": null,
   "id": "813f97ce",
   "metadata": {},
   "outputs": [],
   "source": [
    "for value in range(5):\n",
    "    print(f\"All : {value}\")\n",
    "\n",
    "for value in range(2, 10, 2):\n",
    "    print(f\"Even: {value}\")"
   ]
  },
  {
   "cell_type": "markdown",
   "id": "102c44af",
   "metadata": {},
   "source": [
    "We can select a specific item from a list, or a range of items, using `[]`. \n",
    "The first item is always the '0th' item, and the last is the '-1st'."
   ]
  },
  {
   "cell_type": "code",
   "execution_count": null,
   "id": "d19af940",
   "metadata": {},
   "outputs": [],
   "source": [
    "my_list = list(range(10))\n",
    "\n",
    "print(f\"First: {my_list[0]}\")\n",
    "print(f\"Last: {my_list[-1]}\")"
   ]
  },
  {
   "cell_type": "markdown",
   "id": "11cb948b",
   "metadata": {},
   "source": [
    "A 'slice' selects a range of values using the same 'start,stop,step' format as\n",
    "`range`, but using `:` instead of `,` and indicies instead of values."
   ]
  },
  {
   "cell_type": "code",
   "execution_count": null,
   "id": "11ffab5e",
   "metadata": {},
   "outputs": [],
   "source": [
    "print(f\"Slice: {my_list[2:5]}\")  # Slicing from index 2 to 4\n",
    "print(f\"Reverse: {my_list[::-1]}\")  # Reverse the list, -1 step"
   ]
  },
  {
   "cell_type": "markdown",
   "id": "39df2f64",
   "metadata": {},
   "source": [
    "Try to make a slice that will do every other item, starting at the end."
   ]
  },
  {
   "cell_type": "code",
   "execution_count": null,
   "id": "54453667",
   "metadata": {},
   "outputs": [],
   "source": [
    "print(f\"Every other, starting at the end: {value}\")"
   ]
  },
  {
   "cell_type": "markdown",
   "id": "8bafa73d",
   "metadata": {},
   "source": [
    "## Dicts \n",
    "\n",
    "A dictionary might be made with either of the following notations:"
   ]
  },
  {
   "cell_type": "code",
   "execution_count": null,
   "id": "875c57ad",
   "metadata": {},
   "outputs": [],
   "source": [
    "dict1 = {\"a\": 1, \"b\": 2, \"c\": 3}\n",
    "dict2 = dict(a=1, b=2, c=3)  # Using keyword arguments\n",
    "print(dict1 == dict2)  # True, both dictionaries are equal"
   ]
  },
  {
   "cell_type": "markdown",
   "id": "845a32d6",
   "metadata": {},
   "source": [
    "We can get the value using the key with `[]` notation"
   ]
  },
  {
   "cell_type": "code",
   "execution_count": null,
   "id": "d4a33d92",
   "metadata": {},
   "outputs": [],
   "source": [
    "dict1[\"a\"] == 1"
   ]
  },
  {
   "cell_type": "code",
   "execution_count": null,
   "id": "a9a795ce",
   "metadata": {},
   "outputs": [],
   "source": [
    "dict1[\"d\"] = 4  # Adding a new key-value pair\n",
    "dict1[\"b\"] = 0  # Updating an existing key-value pair"
   ]
  },
  {
   "cell_type": "markdown",
   "id": "9a559908",
   "metadata": {},
   "source": [
    "But we run into issues if we try to fetch a value that doesn't exist"
   ]
  },
  {
   "cell_type": "code",
   "execution_count": null,
   "id": "38ea1743",
   "metadata": {},
   "outputs": [],
   "source": [
    "dict1[\"f\"]"
   ]
  },
  {
   "cell_type": "markdown",
   "id": "4f9d13ce",
   "metadata": {},
   "source": [
    "We can instead use `get`, which will return `None` or some default."
   ]
  },
  {
   "cell_type": "code",
   "execution_count": null,
   "id": "8cbf2e81",
   "metadata": {},
   "outputs": [],
   "source": [
    "dict1.get(\"f\") == None  # Returns None if the key 'f' does not exist"
   ]
  },
  {
   "cell_type": "code",
   "execution_count": null,
   "id": "531a2bd6",
   "metadata": {},
   "outputs": [],
   "source": [
    "dict1.get(\"f\", 0) == 0  # Returns 0 if the key 'f' does not exist"
   ]
  },
  {
   "cell_type": "markdown",
   "id": "6664f8b6",
   "metadata": {},
   "source": [
    "Just like lists, we can iterate over dictionaries, but we have to specify if we\n",
    "want the `keys`, the `values` or all `items`"
   ]
  },
  {
   "cell_type": "code",
   "execution_count": null,
   "id": "05ec2ad6",
   "metadata": {},
   "outputs": [],
   "source": [
    "for key in dict1.keys():\n",
    "    print(f\"Key: {key}, Value: {dict1[key]}\")\n",
    "for key in dict2:  # keys() is implicitly called\n",
    "    print(f\"Key: {key}, Value: {dict2[key]}\")"
   ]
  },
  {
   "cell_type": "code",
   "execution_count": null,
   "id": "52a15455",
   "metadata": {},
   "outputs": [],
   "source": [
    "for value in dict1.values():\n",
    "    print(f\"Value: {value}\")\n",
    "for key, value in dict1.items():\n",
    "    print(f\"Key: {key}, Value: {value}\")"
   ]
  },
  {
   "cell_type": "markdown",
   "id": "457bcf19",
   "metadata": {},
   "source": [
    "## Strings\n",
    "\n",
    "A `for` loop will iterate over each value in a string.\n"
   ]
  },
  {
   "cell_type": "code",
   "execution_count": null,
   "id": "bd44c8fa",
   "metadata": {},
   "outputs": [],
   "source": [
    "for letter in \"abc\":\n",
    "    print(f\"Letter: {letter}\")"
   ]
  },
  {
   "cell_type": "markdown",
   "id": "14d440d8",
   "metadata": {},
   "source": [
    "We can use the `enumerate` function to get both index and value"
   ]
  },
  {
   "cell_type": "code",
   "execution_count": null,
   "id": "d2885b01",
   "metadata": {},
   "outputs": [],
   "source": [
    "for index, letter in enumerate(\"abc\"):\n",
    "    print(f\"Index: {index}, Letter: {letter}\")"
   ]
  },
  {
   "cell_type": "markdown",
   "id": "b377c46b",
   "metadata": {},
   "source": [
    "# Problem\n",
    "\n",
    "**Given**: A DNA string `s` of length at most 1000 nt.\n",
    "\n",
    "**Return**: Four integers (separated by spaces) counting the respective number\n",
    "    of times that the symbols 'A', 'C', 'G', and 'T' occur in s\n",
    "\n",
    "Let's look at a sample:"
   ]
  },
  {
   "cell_type": "code",
   "execution_count": null,
   "id": "4d5fea1d",
   "metadata": {},
   "outputs": [],
   "source": [
    "s = \"AGCTTTTCATTCTGACTGCAACGGGCAATATGTCTCTGTGTGGATTAAAAAAAGAGTGTCTGATAGCAGC\"\n",
    "ret = \"20 12 17 21\""
   ]
  },
  {
   "cell_type": "markdown",
   "id": "945f0e2c",
   "metadata": {},
   "source": [
    "This repository comes with a validator to check solutions. No peeking!"
   ]
  },
  {
   "cell_type": "code",
   "execution_count": null,
   "id": "aacca669",
   "metadata": {},
   "outputs": [],
   "source": [
    "import os\n",
    "\n",
    "if os.getcwd().endswith(\"notebooks\"):\n",
    "    os.chdir(\"..\")\n",
    "\n",
    "from src.dna import validator\n",
    "\n",
    "validator(s, ret)"
   ]
  },
  {
   "cell_type": "markdown",
   "id": "1285f118",
   "metadata": {},
   "source": [
    "What can you do to process this input `s` and return `ret`?"
   ]
  },
  {
   "cell_type": "code",
   "execution_count": null,
   "id": "a56d8f6d",
   "metadata": {},
   "outputs": [],
   "source": [
    "# your code here\n",
    "ret = \"something\"\n",
    "\n",
    "validator(s, ret)  # Validate your answer"
   ]
  },
  {
   "cell_type": "markdown",
   "id": "24a65590",
   "metadata": {},
   "source": [
    "Click on the triangle to see the hint\n",
    "\n",
    "<details><summary>Hint 1</summary>\n",
    "\n",
    "How can this be broken down into steps? \n",
    "\n",
    "1. Look at each part of the string.\n",
    "2. Categorize each as one of four types\n",
    "3. Add to a running sum based on the input\n",
    "4. print out the string with these values.\n",
    "\n",
    "</details>"
   ]
  },
  {
   "cell_type": "markdown",
   "id": "34fbfb27",
   "metadata": {},
   "source": [
    "Now, we'll try on a larger dataset:"
   ]
  },
  {
   "cell_type": "code",
   "execution_count": null,
   "id": "b3a8f085",
   "metadata": {},
   "outputs": [],
   "source": [
    "with open(\"data/rosalind_dna.txt\", \"r\") as file:\n",
    "    s = file.read().strip()  # Get a larger DNA sequence from a file\n",
    "\n",
    "# Your code here"
   ]
  },
  {
   "cell_type": "markdown",
   "id": "e782a846",
   "metadata": {},
   "source": [
    "More hints: \n",
    "\n",
    "<details><summary>Hint 2</summary>\n",
    "\n",
    "Given the steps above, how can we translate them into code?\n",
    "\n",
    "1. We can loop over each character in the string with `for char in s:`\n",
    "2. We can use an `if` to check if the character is 'A', 'C', 'G', or 'T'\n",
    "\n",
    "</details>\n",
    "\n",
    "More: \n",
    "\n",
    "<details><summary>Hint 3</summary>\n",
    "\n",
    "3. We can start a dictionary to count the occurrences of each nucleotide.\n",
    "4. We can increment the count for each nucleotide in the dictionary and\n",
    "   return the counts as a string.\n",
    "</details>\n",
    "\n",
    "One solution (there are many!): \n",
    "\n",
    "<details><Summary>Solution</summary>\n",
    "\n",
    "```python \n",
    "my_count = dict(A=0, C=0, G=0, T=0)\n",
    "for letter in s:\n",
    "    if letter in my_count:\n",
    "        my_count[letter] += 1\n",
    "my_return = f'{my_count[\"A\"]} {my_count[\"C\"]} {my_count[\"G\"]} {my_count[\"T\"]}'\n",
    "```\n",
    "\n",
    "</details>"
   ]
  },
  {
   "cell_type": "markdown",
   "id": "96739034",
   "metadata": {},
   "source": [
    "# Advanced\n",
    "\n",
    "There are other but there are other built-ins than can help us solve this \n",
    "problem in even fewer lines of code.\n",
    "\n",
    "<details><summary>Other methods</summary>\n",
    "\n",
    "- `my_str.count(char)`: count the instances of `char` in `my_str` \n",
    "- `my_str.split(char)`: separate `my_str` into a list based on `char`. Default\n",
    "     is spaces \n",
    "- `map(my_type, my_list)`: wrangle each item in `my_list` to `my_type`\n",
    "- `zip(list1, list2)`: return items of matching indices in each list\n",
    "\n",
    "</details>\n",
    "\n",
    "Try using one or two of these methods in a new solution. Or, try building \n",
    "a validator function."
   ]
  },
  {
   "cell_type": "code",
   "execution_count": null,
   "id": "b9d66466",
   "metadata": {},
   "outputs": [],
   "source": [
    "# Your new code here"
   ]
  }
 ],
 "metadata": {
  "kernelspec": {
   "display_name": "Python 3",
   "language": "python",
   "name": "python3"
  },
  "language_info": {
   "codemirror_mode": {
    "name": "ipython",
    "version": 3
   },
   "file_extension": ".py",
   "mimetype": "text/x-python",
   "name": "python",
   "nbconvert_exporter": "python",
   "pygments_lexer": "ipython3",
   "version": "3.12.1"
  }
 },
 "nbformat": 4,
 "nbformat_minor": 5
}
